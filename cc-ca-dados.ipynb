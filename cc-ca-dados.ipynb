{
 "cells": [
  {
   "cell_type": "markdown",
   "metadata": {},
   "source": [
    "# Corrente Contínua, Alternada e Transferência de Dados"
   ]
  },
  {
   "cell_type": "markdown",
   "metadata": {},
   "source": [
    "## Imports"
   ]
  },
  {
   "cell_type": "code",
   "execution_count": null,
   "metadata": {},
   "outputs": [],
   "source": [
    "import numpy as np\n",
    "import matplotlib.pyplot as plt"
   ]
  },
  {
   "cell_type": "markdown",
   "metadata": {},
   "source": [
    "## Corrente Alternada"
   ]
  },
  {
   "cell_type": "markdown",
   "metadata": {},
   "source": [
    "### Inputs e Saídas"
   ]
  },
  {
   "cell_type": "code",
   "execution_count": null,
   "metadata": {},
   "outputs": [],
   "source": [
    "fim_tempo = 2/60\n",
    "tensao_rms = 220\n",
    "tempo = np.arange(0, fim_tempo, 0.0001)\n",
    "voltagem_alternada = tensao_rms * (2 ** 0.5) * np.sin(2 * np.pi * 60 * tempo)\n",
    "\n",
    "max_alternada = np.max(voltagem_alternada)\n",
    "min_alternada = np.min(voltagem_alternada)"
   ]
  },
  {
   "cell_type": "code",
   "execution_count": null,
   "metadata": {},
   "outputs": [],
   "source": [
    "# Cria a figura\n",
    "plt.figure(0)\n",
    "plt.figure(figsize=(10, 5))\n",
    "\n",
    "# Título e rótulos dos eixos\n",
    "plt.title('Tensão Alternada')\n",
    "plt.xlabel('Tempo (s)', fontsize=14)\n",
    "plt.ylabel('Tensão (V)', fontsize=14)\n",
    "plt.grid(True)\n",
    "\n",
    "# Limites dos eixos\n",
    "plt.xlim(0, fim_tempo)\n",
    "plt.ylim(-max_alternada - 50, max_alternada + 50)\n",
    "\n",
    "# PLota tensão alternada e seus valores máximo e mínimo\n",
    "plt.plot(tempo, voltagem_alternada, 'b', linewidth=2)\n",
    "plt.plot([0, fim_tempo], [max_alternada, max_alternada], 'r', linestyle='--')\n",
    "plt.plot([0, fim_tempo], [min_alternada, min_alternada], 'g', linestyle='--')\n",
    "\n",
    "# Adiciona legenda\n",
    "plt.legend(['Tensão Alternada', 'Máximo', 'Mínimo'], fontsize=12, loc='upper right')\n",
    "\n",
    "# aumenta a fonte dos ticks dos eixos\n",
    "_ = plt.yticks(fontsize=12)\n"
   ]
  },
  {
   "cell_type": "code",
   "execution_count": null,
   "metadata": {},
   "outputs": [],
   "source": []
  },
  {
   "cell_type": "code",
   "execution_count": null,
   "metadata": {},
   "outputs": [],
   "source": []
  },
  {
   "cell_type": "code",
   "execution_count": null,
   "metadata": {},
   "outputs": [],
   "source": []
  }
 ],
 "metadata": {
  "kernelspec": {
   "display_name": "Python 3",
   "language": "python",
   "name": "python3"
  },
  "language_info": {
   "codemirror_mode": {
    "name": "ipython",
    "version": 3
   },
   "file_extension": ".py",
   "mimetype": "text/x-python",
   "name": "python",
   "nbconvert_exporter": "python",
   "pygments_lexer": "ipython3",
   "version": "3.8.10"
  }
 },
 "nbformat": 4,
 "nbformat_minor": 4
}
