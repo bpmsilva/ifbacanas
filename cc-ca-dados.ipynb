{
 "cells": [
  {
   "cell_type": "markdown",
   "metadata": {},
   "source": [
    "# Corrente Contínua, Alternada e Transferência de Dados"
   ]
  },
  {
   "cell_type": "markdown",
   "metadata": {},
   "source": [
    "## Imports"
   ]
  },
  {
   "cell_type": "code",
   "execution_count": null,
   "metadata": {},
   "outputs": [],
   "source": [
    "import numpy as np\n",
    "import matplotlib.pyplot as plt"
   ]
  },
  {
   "cell_type": "markdown",
   "metadata": {},
   "source": [
    "## Inputs e Saídas"
   ]
  },
  {
   "cell_type": "code",
   "execution_count": null,
   "metadata": {},
   "outputs": [],
   "source": [
    "fim_tempo = 2/60\n",
    "tensao_rms = 220\n",
    "tensao_continua = 19\n",
    "tempo = np.arange(0, fim_tempo, 0.0001)\n",
    "voltagem_continua = tensao_continua * np.ones(tempo.size)\n",
    "voltagem_alternada = tensao_rms * (2 ** 0.5) * np.sin(2 * np.pi * 60 * tempo)\n",
    "\n",
    "max_alternada = np.max(voltagem_alternada)\n",
    "min_alternada = np.min(voltagem_alternada)"
   ]
  },
  {
   "cell_type": "markdown",
   "metadata": {},
   "source": [
    "## Corrente Alternada"
   ]
  },
  {
   "cell_type": "code",
   "execution_count": null,
   "metadata": {},
   "outputs": [],
   "source": [
    "# Cria a figura\n",
    "plt.figure(0)\n",
    "plt.figure(figsize=(10, 5))\n",
    "\n",
    "# Título e rótulos dos eixos\n",
    "plt.title('Tensão Alternada')\n",
    "plt.xlabel('Tempo (s)', fontsize=14)\n",
    "plt.ylabel('Tensão (V)', fontsize=14)\n",
    "plt.grid(True)\n",
    "\n",
    "# Limites dos eixos\n",
    "plt.xlim(0, fim_tempo)\n",
    "plt.ylim(-max_alternada - 50, max_alternada + 50)\n",
    "\n",
    "# PLota tensão alternada e seus valores máximo e mínimo\n",
    "plt.plot(tempo, voltagem_alternada, 'b', linewidth=3)\n",
    "plt.plot([0, fim_tempo], [max_alternada, max_alternada], 'r', linestyle='--', linewidth=3)\n",
    "plt.plot([0, fim_tempo], [min_alternada, min_alternada], 'g', linestyle='--', linewidth=3)\n",
    "\n",
    "# Adiciona legenda\n",
    "plt.legend(['Tensão Alternada', 'Máximo', 'Mínimo'], fontsize=12, loc='upper right')\n",
    "\n",
    "# aumenta a fonte dos ticks dos eixos\n",
    "_ = plt.yticks(fontsize=12)\n"
   ]
  },
  {
   "cell_type": "markdown",
   "metadata": {},
   "source": [
    "## Corrente Contínua"
   ]
  },
  {
   "cell_type": "code",
   "execution_count": null,
   "metadata": {},
   "outputs": [],
   "source": [
    "# Cria a figura\n",
    "plt.figure(1)\n",
    "plt.figure(figsize=(10, 5))\n",
    "\n",
    "# Título e rótulos dos eixos\n",
    "plt.title('Corrente Contínua')\n",
    "plt.xlabel('Tempo (s)', fontsize=14)\n",
    "plt.ylabel('Corrente (A)', fontsize=14)\n",
    "plt.grid(True)\n",
    "\n",
    "# plota a tensão contínua\n",
    "plt.plot(tempo, voltagem_continua, 'b', linewidth=3)\n",
    "\n",
    "# Linha pontilhada no eixo x para servir de referência\n",
    "plt.plot([0, fim_tempo], [0, 0], 'k', linestyle='--', linewidth=3)\n",
    "\n",
    "# Limites dos eixos\n",
    "plt.xlim(0, fim_tempo)\n",
    "plt.ylim(0 - 5, tensao_continua + 5)\n",
    "\n",
    "# Aumenta a fonte dos ticks dos eixos\n",
    "_ = plt.xticks(fontsize=12)\n",
    "_ = plt.yticks(fontsize=12)"
   ]
  },
  {
   "cell_type": "markdown",
   "metadata": {},
   "source": [
    "## Comparação entre tensão contínua e alternada"
   ]
  },
  {
   "cell_type": "code",
   "execution_count": null,
   "metadata": {},
   "outputs": [],
   "source": [
    "# Cria a figura\n",
    "plt.figure(1)\n",
    "plt.figure(figsize=(10, 5))\n",
    "\n",
    "# Título e rótulos dos eixos\n",
    "plt.title('Tensão Alternada e Contínua', fontsize=16)\n",
    "plt.xlabel('Tempo (s)', fontsize=16)\n",
    "plt.ylabel('Tensão (A)', fontsize=16)\n",
    "plt.grid(True)\n",
    "\n",
    "# Limites dos eixos\n",
    "plt.xlim(0, fim_tempo)\n",
    "plt.ylim(min_alternada - 5, max_alternada + 5)\n",
    "\n",
    "# Aumenta a fonte dos ticks dos eixos\n",
    "_ = plt.xticks(fontsize=12)\n",
    "_ = plt.yticks(fontsize=12)\n",
    "\n",
    "# Plota tensão alternada e contínua\n",
    "plt.plot(tempo, voltagem_alternada, 'r', linewidth=3)\n",
    "plt.plot(tempo, voltagem_continua, 'b', linewidth=3)\n",
    "\n",
    "# Adiciona legenda\n",
    "plt.legend(['Tensão Alternada', 'Tensão Contínua'], fontsize=12, loc='upper right')\n",
    "\n",
    "# Plota linha pontilhada no eixo x para servir de referência\n",
    "plt.plot([0, fim_tempo], [0, 0], 'k', linestyle='--', linewidth=3)"
   ]
  },
  {
   "cell_type": "markdown",
   "metadata": {},
   "source": [
    "Conclusão:\n",
    "- $ \\text{max}(V_{\\text{alternada}}) >> \\text{max}(V_{\\text{contínua}})$"
   ]
  },
  {
   "cell_type": "markdown",
   "metadata": {},
   "source": [
    "## Transferência de Dados"
   ]
  },
  {
   "cell_type": "code",
   "execution_count": null,
   "metadata": {},
   "outputs": [],
   "source": [
    "tempo = np.arange(0, fim_tempo, 0.0001)\n",
    "\n",
    "size = 15\n",
    "tam_onda = len(tempo)//size\n",
    "onda = np.random.rand(tam_onda) > 0.5\n",
    "\n",
    "# cria onda binária\n",
    "onda_binaria = np.zeros(tempo.size)\n",
    "for i in range(len(tempo)//size):\n",
    "    for j in range(size):\n",
    "        onda_binaria[i*size + j] = onda[i]\n",
    "\n",
    "# Set a tensão da onda binária para 5V\n",
    "onda_binaria = 5 * onda_binaria\n",
    "\n",
    "# Cria a figura\n",
    "plt.figure(2)\n",
    "plt.figure(figsize=(10, 5))\n",
    "plt.title('Onda Binária', fontsize=16)\n",
    "plt.xlabel('Tempo (s)', fontsize=16)\n",
    "plt.ylabel('Tensão (V)', fontsize=16)\n",
    "plt.grid(True)\n",
    "\n",
    "# Limites dos eixos\n",
    "plt.xlim(0, fim_tempo)\n",
    "plt.ylim(-0.5, 5.5)\n",
    "\n",
    "# Aumenta a fonte dos ticks dos eixos\n",
    "_ = plt.xticks(fontsize=12)\n",
    "_ = plt.yticks(fontsize=12)\n",
    "\n",
    "# Plota onda binária\n",
    "plt.plot(tempo, onda_binaria, 'b', linewidth=3)"
   ]
  },
  {
   "cell_type": "markdown",
   "metadata": {},
   "source": [
    "Conclusão:\n",
    "- Comumente $ \\text{max}(V_{\\text{alternada}}) >> \\text{max}(V_{\\text{contínua}}) > V_\\text{{transferência}}$"
   ]
  },
  {
   "cell_type": "code",
   "execution_count": null,
   "metadata": {},
   "outputs": [],
   "source": []
  }
 ],
 "metadata": {
  "kernelspec": {
   "display_name": "Python 3",
   "language": "python",
   "name": "python3"
  },
  "language_info": {
   "codemirror_mode": {
    "name": "ipython",
    "version": 3
   },
   "file_extension": ".py",
   "mimetype": "text/x-python",
   "name": "python",
   "nbconvert_exporter": "python",
   "pygments_lexer": "ipython3",
   "version": "3.8.10"
  }
 },
 "nbformat": 4,
 "nbformat_minor": 4
}
