{
 "cells": [
  {
   "cell_type": "markdown",
   "metadata": {},
   "source": [
    "# Aula 01 - Jupyter notebook"
   ]
  },
  {
   "cell_type": "markdown",
   "metadata": {},
   "source": [
    "## Introdução"
   ]
  },
  {
   "cell_type": "markdown",
   "metadata": {
    "jp-MarkdownHeadingCollapsed": true
   },
   "source": [
    "O juptyer notebook é uma ferramenta que permite a criação de documentos que misturam texto, código e visualizações. Ele é muito utilizado em ciência de dados e machine learning, pois permite a criação de relatórios e análises de dados de forma interativa."
   ]
  },
  {
   "cell_type": "code",
   "execution_count": null,
   "metadata": {},
   "outputs": [],
   "source": [
    "# O velho Hello, World!\n",
    "print('Hello, World')"
   ]
  },
  {
   "cell_type": "markdown",
   "metadata": {},
   "source": [
    "## Interatividade"
   ]
  },
  {
   "cell_type": "code",
   "execution_count": null,
   "metadata": {},
   "outputs": [],
   "source": [
    "# Initialize a variável x\n",
    "x = 1"
   ]
  },
  {
   "cell_type": "code",
   "execution_count": null,
   "metadata": {},
   "outputs": [],
   "source": [
    "# Execute esta célula quantas vezes quiser (ctrl + enter)\n",
    "x += 1"
   ]
  },
  {
   "cell_type": "code",
   "execution_count": null,
   "metadata": {},
   "outputs": [],
   "source": [
    "# Veja o valor de x\n",
    "print(x)"
   ]
  },
  {
   "cell_type": "markdown",
   "metadata": {
    "jp-MarkdownHeadingCollapsed": true
   },
   "source": [
    "## Código em Python (sem interatividade)"
   ]
  },
  {
   "cell_type": "code",
   "execution_count": null,
   "metadata": {},
   "outputs": [],
   "source": [
    "x = 1\n",
    "x += 1   # Não conseguimos repetir a célula sem executar a linha x = 1\n",
    "print(x) # O valor de x é sempre 2"
   ]
  },
  {
   "cell_type": "markdown",
   "metadata": {
    "jp-MarkdownHeadingCollapsed": true
   },
   "source": [
    "## Exemplo: Problema de Matemática"
   ]
  },
  {
   "cell_type": "code",
   "execution_count": null,
   "metadata": {},
   "outputs": [],
   "source": [
    "# Inicialize a variável x\n",
    "x = 4"
   ]
  },
  {
   "cell_type": "code",
   "execution_count": null,
   "metadata": {},
   "outputs": [],
   "source": [
    "# Decremente a variável x até que o valor da equação seja 0\n",
    "x -= 1\n",
    "\n",
    "# Calcule o valor da equação\n",
    "eq = x**2 + 2*x + 1\n",
    "\n",
    "# Veja de x da equação (eq)\n",
    "print('x = ', x)\n",
    "print('Equação = ', eq)"
   ]
  },
  {
   "cell_type": "markdown",
   "metadata": {},
   "source": [
    "# Aula 01 e Revisão para Aula 02"
   ]
  },
  {
   "cell_type": "markdown",
   "metadata": {},
   "source": [
    "## Como representar a estrutura estudante?"
   ]
  },
  {
   "cell_type": "markdown",
   "metadata": {},
   "source": [
    "### Opção 01 - Várias variáveis"
   ]
  },
  {
   "cell_type": "code",
   "execution_count": null,
   "metadata": {},
   "outputs": [],
   "source": [
    "# Pessoa 1\n",
    "nome1 = 'Bernardo'\n",
    "idade1 = 35\n",
    "profissao1 = 'Professor'\n",
    "\n",
    "# Pessoa 2\n",
    "nome2 = 'Juan'\n",
    "idade2 = 16\n",
    "profissao2 = 'Estudante'\n",
    "\n",
    "# Pessoa 3\n",
    "nome3 = 'Rita'\n",
    "idade3 = 15\n",
    "profissao = 'Estudante'"
   ]
  },
  {
   "cell_type": "markdown",
   "metadata": {},
   "source": [
    "Problema: para cada novo estudante, precisamos criar novas variáveis."
   ]
  },
  {
   "cell_type": "markdown",
   "metadata": {},
   "source": [
    "### Opção 02 - Listas"
   ]
  },
  {
   "cell_type": "code",
   "execution_count": null,
   "metadata": {},
   "outputs": [],
   "source": [
    "l = ['Bernardo', 35, 'Professor']"
   ]
  },
  {
   "cell_type": "code",
   "execution_count": null,
   "metadata": {},
   "outputs": [],
   "source": [
    "lista = [35, 'Bernardo', 'Professor']"
   ]
  },
  {
   "cell_type": "code",
   "execution_count": null,
   "metadata": {},
   "outputs": [],
   "source": [
    "nome_retornado = lista[0] # Erro!\n",
    "print(nome_retornado)"
   ]
  },
  {
   "cell_type": "markdown",
   "metadata": {},
   "source": [
    "Problema: E se esquecermos a ordem de cada atributo? E a legibilidade?"
   ]
  },
  {
   "cell_type": "markdown",
   "metadata": {},
   "source": [
    "### Opção 3"
   ]
  },
  {
   "cell_type": "markdown",
   "metadata": {},
   "source": [
    "Envolve umas coisas chamadas classes e objetos (Programação Orientada a Objetos)"
   ]
  },
  {
   "cell_type": "markdown",
   "metadata": {},
   "source": [
    "#### Código Novo (Ignoremos por enquanto)"
   ]
  },
  {
   "cell_type": "code",
   "execution_count": null,
   "metadata": {},
   "outputs": [],
   "source": [
    "#### Código \"obscuro\"/\"horroroso\" ####\n",
    "class Pessoa:\n",
    "    def __init__(self, nome, idade, profissao):\n",
    "        self.nome = nome\n",
    "        self.idade = idade\n",
    "        self.profissao = profissao"
   ]
  },
  {
   "cell_type": "code",
   "execution_count": null,
   "metadata": {},
   "outputs": [],
   "source": [
    "p = Pessoa('Bernardo', 35, 'Professor')\n",
    "\n",
    "print('Nome:      ', p.nome)\n",
    "print('Idade:     ', p.idade)\n",
    "print('Profissao: ', p.profissao)"
   ]
  },
  {
   "cell_type": "markdown",
   "metadata": {},
   "source": [
    "As variáveis agora estão dentro de uma mesma estrutura, que é a estrutura Pessoa"
   ]
  },
  {
   "cell_type": "markdown",
   "metadata": {},
   "source": [
    "# Aula 02"
   ]
  },
  {
   "cell_type": "markdown",
   "metadata": {},
   "source": [
    "## Entendo o código \"obscuro/horroroso\""
   ]
  },
  {
   "cell_type": "code",
   "execution_count": null,
   "metadata": {},
   "outputs": [],
   "source": [
    "# Classe Pessoa\n",
    "class Pessoa:\n",
    "\n",
    "    # Construtor\n",
    "    def __init__(self, nome, idade, profissao):\n",
    "\n",
    "        # Atributos\n",
    "        self.nome = nome\n",
    "        self.idade = idade\n",
    "        self.profissao = profissao"
   ]
  },
  {
   "cell_type": "markdown",
   "metadata": {},
   "source": [
    "## Instanciando a classe Pessoa"
   ]
  },
  {
   "cell_type": "code",
   "execution_count": null,
   "metadata": {},
   "outputs": [],
   "source": [
    "p = Pessoa('Bernardo', 35, 'Professor')\n",
    "\n",
    "print('Nome:      ', p.nome)\n",
    "print('Idade:     ', p.idade)\n",
    "print('Profissao: ', p.profissao)"
   ]
  },
  {
   "cell_type": "markdown",
   "metadata": {},
   "source": [
    "## Criar uma nova classe"
   ]
  },
  {
   "cell_type": "code",
   "execution_count": null,
   "metadata": {},
   "outputs": [],
   "source": [
    "class Computador:\n",
    "\n",
    "    # O construtor sempre é chamado quando instanciamos um objeto\n",
    "    # Seu código começa com as palavras reservadas \"def\" e \"__init__\"\n",
    "    def __init__(self, memoria, marca, preco):\n",
    "\n",
    "        self.memoria = memoria\n",
    "        self.marca = marca\n",
    "        self.preco = preco"
   ]
  },
  {
   "cell_type": "code",
   "execution_count": null,
   "metadata": {},
   "outputs": [],
   "source": [
    "c = Computador(8, 'Dell', 4000)\n",
    "print('Memória: ', c.memoria)\n",
    "print('Marca:   ', c.marca)\n",
    "print('Preço:   ', c.preco)"
   ]
  },
  {
   "cell_type": "markdown",
   "metadata": {},
   "source": [
    "## Sintaxe"
   ]
  },
  {
   "cell_type": "markdown",
   "metadata": {},
   "source": [
    "### Exemplos dos estudantes"
   ]
  },
  {
   "cell_type": "code",
   "execution_count": null,
   "metadata": {},
   "outputs": [],
   "source": [
    "class Aluna:\n",
    "    def __init__(self, nome, idade, participativa):\n",
    "        self.nome = nome\n",
    "        self.idade = idade\n",
    "        self.participativa = participativa\n",
    "        "
   ]
  },
  {
   "cell_type": "code",
   "execution_count": null,
   "metadata": {},
   "outputs": [],
   "source": [
    "class Livro:\n",
    "    def __init__(self, nome, genero, num_paginas):\n",
    "        self.nome = nome\n",
    "        self.genero = genero\n",
    "        self.num_paginas = num_paginas"
   ]
  },
  {
   "cell_type": "markdown",
   "metadata": {},
   "source": [
    "### Execução de códido dentro do construtor"
   ]
  },
  {
   "cell_type": "code",
   "execution_count": null,
   "metadata": {},
   "outputs": [],
   "source": [
    "class Livro:\n",
    "    # Construtor\n",
    "    def __init__(self, nome, genero, num_paginas):\n",
    "\n",
    "        ### Código: esta parte é executada quando instanciamos um objeto ###\n",
    "        print('Este é o construtor da classe Livro')\n",
    "        print('Estou instanciando um objeto da classe Livro')\n",
    "        \n",
    "        self.nome = nome\n",
    "        self.genero = genero\n",
    "        self.num_paginas = num_paginas"
   ]
  },
  {
   "cell_type": "code",
   "execution_count": null,
   "metadata": {},
   "outputs": [],
   "source": [
    "l = Livro('Harry Potter', 'Fantasia', 300)"
   ]
  },
  {
   "cell_type": "code",
   "execution_count": null,
   "metadata": {},
   "outputs": [],
   "source": []
  }
 ],
 "metadata": {
  "kernelspec": {
   "display_name": "Python 3 (ipykernel)",
   "language": "python",
   "name": "python3"
  },
  "language_info": {
   "codemirror_mode": {
    "name": "ipython",
    "version": 3
   },
   "file_extension": ".py",
   "mimetype": "text/x-python",
   "name": "python",
   "nbconvert_exporter": "python",
   "pygments_lexer": "ipython3",
   "version": "3.10.12"
  }
 },
 "nbformat": 4,
 "nbformat_minor": 4
}
