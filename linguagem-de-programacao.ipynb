{
 "cells": [
  {
   "cell_type": "markdown",
   "metadata": {},
   "source": [
    "# Aula 01 - Jupyter notebook"
   ]
  },
  {
   "cell_type": "markdown",
   "metadata": {},
   "source": [
    "## Introdução"
   ]
  },
  {
   "cell_type": "markdown",
   "metadata": {
    "jp-MarkdownHeadingCollapsed": true
   },
   "source": [
    "O juptyer notebook é uma ferramenta que permite a criação de documentos que misturam texto, código e visualizações. Ele é muito utilizado em ciência de dados e machine learning, pois permite a criação de relatórios e análises de dados de forma interativa."
   ]
  },
  {
   "cell_type": "code",
   "execution_count": null,
   "metadata": {},
   "outputs": [],
   "source": [
    "# O velho Hello, World!\n",
    "print('Hello, World')"
   ]
  },
  {
   "cell_type": "markdown",
   "metadata": {},
   "source": [
    "## Interatividade"
   ]
  },
  {
   "cell_type": "code",
   "execution_count": null,
   "metadata": {},
   "outputs": [],
   "source": [
    "# Initialize a variável x\n",
    "x = 1"
   ]
  },
  {
   "cell_type": "code",
   "execution_count": null,
   "metadata": {},
   "outputs": [],
   "source": [
    "# Execute esta célula quantas vezes quiser (ctrl + enter)\n",
    "x += 1"
   ]
  },
  {
   "cell_type": "code",
   "execution_count": null,
   "metadata": {},
   "outputs": [],
   "source": [
    "# Veja o valor de x\n",
    "print(x)"
   ]
  },
  {
   "cell_type": "markdown",
   "metadata": {
    "jp-MarkdownHeadingCollapsed": true
   },
   "source": [
    "## Código em Python (sem interatividade)"
   ]
  },
  {
   "cell_type": "code",
   "execution_count": null,
   "metadata": {},
   "outputs": [],
   "source": [
    "x = 1\n",
    "x += 1   # Não conseguimos repetir a célula sem executar a linha x = 1\n",
    "print(x) # O valor de x é sempre 2"
   ]
  },
  {
   "cell_type": "markdown",
   "metadata": {
    "jp-MarkdownHeadingCollapsed": true
   },
   "source": [
    "## Exemplo: Problema de Matemática"
   ]
  },
  {
   "cell_type": "code",
   "execution_count": null,
   "metadata": {},
   "outputs": [],
   "source": [
    "# Inicialize a variável x\n",
    "x = 4"
   ]
  },
  {
   "cell_type": "code",
   "execution_count": null,
   "metadata": {},
   "outputs": [],
   "source": [
    "# Decremente a variável x até que o valor da equação seja 0\n",
    "x -= 1\n",
    "\n",
    "# Calcule o valor da equação\n",
    "eq = x**2 + 2*x + 1\n",
    "\n",
    "# Veja valor de x e da equação (eq)\n",
    "print('x = ', x)\n",
    "print('Equação = ', eq)"
   ]
  },
  {
   "cell_type": "markdown",
   "metadata": {},
   "source": [
    "# Aula 01 e Revisão para Aula 02"
   ]
  },
  {
   "cell_type": "markdown",
   "metadata": {},
   "source": [
    "## Como representar uma estrutura estudante?"
   ]
  },
  {
   "cell_type": "markdown",
   "metadata": {},
   "source": [
    "### Opção 01 - Várias variáveis"
   ]
  },
  {
   "cell_type": "code",
   "execution_count": null,
   "metadata": {},
   "outputs": [],
   "source": [
    "# Pessoa 1\n",
    "nome1 = 'Bernardo'\n",
    "idade1 = 35\n",
    "profissao1 = 'Professor'\n",
    "\n",
    "# Pessoa 2\n",
    "nome2 = 'Juan'\n",
    "idade2 = 16\n",
    "profissao2 = 'Estudante'\n",
    "\n",
    "# Pessoa 3\n",
    "nome3 = 'Rita'\n",
    "idade3 = 15\n",
    "profissao3 = 'Estudante'"
   ]
  },
  {
   "cell_type": "markdown",
   "metadata": {},
   "source": [
    "Problema: para cada novo estudante, precisamos criar novas variáveis, desconexas entre si."
   ]
  },
  {
   "cell_type": "markdown",
   "metadata": {},
   "source": [
    "### Opção 02 - Listas"
   ]
  },
  {
   "cell_type": "code",
   "execution_count": null,
   "metadata": {},
   "outputs": [],
   "source": [
    "# Nesta primeira lista, o primeiro elemento é o nome, que podemos acessar com o índice 0\n",
    "l1 = ['Bernardo', 35, 'Professor']\n",
    "\n",
    "# Não há legibilidade já que o índice 0 não nos dá pistas sobre o que é o elemento\n",
    "nome_retornado = l1[0] # Erro!\n",
    "print(nome_retornado)"
   ]
  },
  {
   "cell_type": "code",
   "execution_count": null,
   "metadata": {},
   "outputs": [],
   "source": [
    "# Já nesta segunda lista, o primeiro elemento é a idade\n",
    "# Se esperarmos retornar o nome, teremos um erro\n",
    "l2 = [35, 'Bernardo', 'Professor']\n",
    "\n",
    "nome_retornado = l2[0] # Erro!\n",
    "print(nome_retornado)"
   ]
  },
  {
   "cell_type": "markdown",
   "metadata": {},
   "source": [
    "Problema: E se esquecermos a ordem de cada atributo? E a legibilidade?"
   ]
  },
  {
   "cell_type": "markdown",
   "metadata": {},
   "source": [
    "### Opção 3"
   ]
  },
  {
   "cell_type": "markdown",
   "metadata": {},
   "source": [
    "Envolve umas coisas chamadas classes e objetos (Programação Orientada a Objetos)"
   ]
  },
  {
   "cell_type": "markdown",
   "metadata": {},
   "source": [
    "#### Código Novo (Ignoremos por enquanto)"
   ]
  },
  {
   "cell_type": "code",
   "execution_count": null,
   "metadata": {},
   "outputs": [],
   "source": [
    "#### Código \"obscuro\"/\"horroroso\" ####\n",
    "class Pessoa:\n",
    "    def __init__(self, nome, idade, profissao):\n",
    "        self.nome = nome\n",
    "        self.idade = idade\n",
    "        self.profissao = profissao"
   ]
  },
  {
   "cell_type": "code",
   "execution_count": null,
   "metadata": {},
   "outputs": [],
   "source": [
    "p = Pessoa('Bernardo', 35, 'Professor')\n",
    "\n",
    "# Os atributos da classe Pessoa são acessados com o ponto\n",
    "print('Nome:      ', p.nome)\n",
    "print('Idade:     ', p.idade)\n",
    "print('Profissao: ', p.profissao)"
   ]
  },
  {
   "cell_type": "markdown",
   "metadata": {},
   "source": [
    "As variáveis agora estão dentro de uma mesma estrutura, que é a estrutura Pessoa"
   ]
  },
  {
   "cell_type": "markdown",
   "metadata": {},
   "source": [
    "# Aula 02"
   ]
  },
  {
   "cell_type": "markdown",
   "metadata": {},
   "source": [
    "## Entendo o código \"obscuro/horroroso\""
   ]
  },
  {
   "cell_type": "code",
   "execution_count": null,
   "metadata": {},
   "outputs": [],
   "source": [
    "# Classe Pessoa\n",
    "# É convenção que o nome da classe comece com letra maiúscula\n",
    "class Pessoa:\n",
    "\n",
    "    # Construtor\n",
    "    def __init__(self, nome, idade, profissao):\n",
    "\n",
    "        # Atributos\n",
    "        self.nome = nome\n",
    "        self.idade = idade\n",
    "        self.profissao = profissao"
   ]
  },
  {
   "cell_type": "markdown",
   "metadata": {},
   "source": [
    "## Instanciando a classe Pessoa (novamente)"
   ]
  },
  {
   "cell_type": "code",
   "execution_count": null,
   "metadata": {},
   "outputs": [],
   "source": [
    "p = Pessoa('Bernardo', 35, 'Professor')\n",
    "\n",
    "print('Nome:      ', p.nome)\n",
    "print('Idade:     ', p.idade)\n",
    "print('Profissao: ', p.profissao)"
   ]
  },
  {
   "cell_type": "markdown",
   "metadata": {},
   "source": [
    "## Criar uma nova classe"
   ]
  },
  {
   "cell_type": "code",
   "execution_count": null,
   "metadata": {},
   "outputs": [],
   "source": [
    "class Computador:\n",
    "\n",
    "    # O construtor sempre é chamado quando instanciamos um objeto\n",
    "    # Seu código começa com as palavras reservadas \"def\" e \"__init__\"\n",
    "    def __init__(self, memoria, marca, preco):\n",
    "\n",
    "        self.memoria = memoria\n",
    "        self.marca = marca\n",
    "        self.preco = preco"
   ]
  },
  {
   "cell_type": "code",
   "execution_count": null,
   "metadata": {},
   "outputs": [],
   "source": [
    "c = Computador(8, 'Dell', 4000)\n",
    "print('Memória: ', c.memoria)\n",
    "print('Marca:   ', c.marca)\n",
    "print('Preço:   ', c.preco)"
   ]
  },
  {
   "cell_type": "markdown",
   "metadata": {},
   "source": [
    "## Sintaxe"
   ]
  },
  {
   "cell_type": "markdown",
   "metadata": {},
   "source": [
    "### Exemplos dos estudantes"
   ]
  },
  {
   "cell_type": "code",
   "execution_count": null,
   "metadata": {},
   "outputs": [],
   "source": [
    "class Aluna:\n",
    "    def __init__(self, nome, idade, participativa):\n",
    "        self.nome = nome\n",
    "        self.idade = idade\n",
    "        self.participativa = participativa\n",
    "        "
   ]
  },
  {
   "cell_type": "code",
   "execution_count": null,
   "metadata": {},
   "outputs": [],
   "source": [
    "class Livro:\n",
    "    def __init__(self, nome, genero, num_paginas):\n",
    "        self.nome = nome\n",
    "        self.genero = genero\n",
    "        self.num_paginas = num_paginas"
   ]
  },
  {
   "cell_type": "markdown",
   "metadata": {},
   "source": [
    "### Execução de códido dentro do construtor"
   ]
  },
  {
   "cell_type": "code",
   "execution_count": null,
   "metadata": {},
   "outputs": [],
   "source": [
    "class Livro:\n",
    "    # Construtor\n",
    "    def __init__(self, nome, genero, num_paginas):\n",
    "\n",
    "        ### Código: esta parte é executada quando instanciamos um objeto ###\n",
    "        print('Este é o construtor da classe Livro')\n",
    "        print('Estou instanciando um objeto da classe Livro')\n",
    "        \n",
    "        self.nome = nome\n",
    "        self.genero = genero\n",
    "        self.num_paginas = num_paginas"
   ]
  },
  {
   "cell_type": "code",
   "execution_count": null,
   "metadata": {},
   "outputs": [],
   "source": [
    "l = Livro('Harry Potter', 'Fantasia', 300)"
   ]
  },
  {
   "cell_type": "markdown",
   "metadata": {},
   "source": [
    "# Aula 3"
   ]
  },
  {
   "cell_type": "markdown",
   "metadata": {},
   "source": [
    "## Exemplo e classe (sugestão da estudante)"
   ]
  },
  {
   "cell_type": "code",
   "execution_count": null,
   "metadata": {},
   "outputs": [],
   "source": [
    "class Dinheiro:\n",
    "    def __init__(self, moeda, quantidade, pais):\n",
    "        self.moeda = moeda\n",
    "        self.quantidade = quantidade\n",
    "        self.pais = pais"
   ]
  },
  {
   "cell_type": "markdown",
   "metadata": {},
   "source": [
    "## Chamada/instanciação da classe Dinheiro"
   ]
  },
  {
   "cell_type": "code",
   "execution_count": null,
   "metadata": {},
   "outputs": [],
   "source": [
    "# Uma instância de dinheiro \n",
    "d = Dinheiro(\"Dolar\", 1000, \"EUA\")\n",
    "\n",
    "# Outra instânciade dinheiro\n",
    "e = Dinheiro(\"Euro\", 560, \"Espanha\")"
   ]
  },
  {
   "cell_type": "markdown",
   "metadata": {},
   "source": [
    "## Novo atributo na classe Dinheiro"
   ]
  },
  {
   "cell_type": "code",
   "execution_count": null,
   "metadata": {},
   "outputs": [],
   "source": [
    "class Dinheiro:\n",
    "\n",
    "    # Construtor\n",
    "    def __init__(self, moeda, quantidade, pais):\n",
    "        self.moeda = moeda\n",
    "        self.quantidade = quantidade\n",
    "        self.pais = pais\n",
    "\n",
    "        # Novo atributo (valor em reais)\n",
    "        self.real = 0\n",
    "\n",
    "        if moeda == 'Euro':\n",
    "            # Valor do Euro (5.5 reais)\n",
    "            self.real = 5.5*quantidade\n",
    "        elif moeda == 'Dolar':\n",
    "            # Valor do Dolar (5 reais)\n",
    "            self.real = 5*quantidade"
   ]
  },
  {
   "cell_type": "markdown",
   "metadata": {},
   "source": [
    "## Instanciando novamente a classe Dinheiro"
   ]
  },
  {
   "cell_type": "code",
   "execution_count": null,
   "metadata": {},
   "outputs": [],
   "source": [
    "d = Dinheiro('dolar', 100, 'EUA')\n",
    "print('Valor em real é', d.real) # Erro! Deveria ser 500, não?"
   ]
  },
  {
   "cell_type": "markdown",
   "metadata": {},
   "source": [
    "Problema: a string (texto delimitado por aspas) 'dolar' é diferente de 'Dolar' (com D maiúsculo)"
   ]
  },
  {
   "cell_type": "markdown",
   "metadata": {},
   "source": [
    "## Comparação de strings"
   ]
  },
  {
   "cell_type": "code",
   "execution_count": null,
   "metadata": {},
   "outputs": [],
   "source": [
    "# retorna \"Falses\"\n",
    "moeda1 = 'Dolar'\n",
    "moeda2 = 'dolar'\n",
    "print(moeda1 == moeda2, 'Dolar' == 'dolar')"
   ]
  },
  {
   "cell_type": "markdown",
   "metadata": {},
   "source": [
    "Queremos que retorne verdadeiro"
   ]
  },
  {
   "cell_type": "markdown",
   "metadata": {},
   "source": [
    "## Possível solução: métodos upper case ou lower case"
   ]
  },
  {
   "cell_type": "code",
   "execution_count": null,
   "metadata": {},
   "outputs": [],
   "source": [
    "moeda1 = 'Dolar'.upper() # pode ser lower()\n",
    "moeda2 = 'dolar'.upper() # pode ser lower()\n",
    "\n",
    "print('Moeda 1 é', moeda1)\n",
    "print('Moeda 2 é', moeda2)\n",
    "\n",
    "print('Moeda 1 é igual a moeda 2?', moeda1 == moeda2)"
   ]
  },
  {
   "cell_type": "code",
   "execution_count": null,
   "metadata": {},
   "outputs": [],
   "source": [
    "\n"
   ]
  },
  {
   "cell_type": "code",
   "execution_count": null,
   "metadata": {},
   "outputs": [],
   "source": []
  }
 ],
 "metadata": {
  "kernelspec": {
   "display_name": "Python 3 (ipykernel)",
   "language": "python",
   "name": "python3"
  },
  "language_info": {
   "codemirror_mode": {
    "name": "ipython",
    "version": 3
   },
   "file_extension": ".py",
   "mimetype": "text/x-python",
   "name": "python",
   "nbconvert_exporter": "python",
   "pygments_lexer": "ipython3",
   "version": "3.10.12"
  }
 },
 "nbformat": 4,
 "nbformat_minor": 4
}
